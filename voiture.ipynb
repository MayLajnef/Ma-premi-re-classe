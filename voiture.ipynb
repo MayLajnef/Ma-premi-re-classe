{
 "cells": [
  {
   "cell_type": "code",
   "execution_count": 12,
   "id": "e14e9e33",
   "metadata": {},
   "outputs": [],
   "source": [
    "class Voiture:\n",
    "    essence = 100\n",
    "    \n",
    "    def afficher_reservoir(self):\n",
    "        print(f\"La voiture contient {self.essence}L d'essence.\")\n",
    "        \n",
    "    def roule(self, km):\n",
    "        consommation = (km*5)/100\n",
    "        self.essence -= consommation\n",
    "        if self.essence > 0:\n",
    "            print(f\"La voiture contient {self.essence}L d'essence.\")\n",
    "        if self.essence <= 0:\n",
    "            print(\"Vous n'avez plus d'essence, faites le plein !\")\n",
    "        if self.essence < 10:\n",
    "            print(\"Vous n'avez bientôt plus d'essence !\")\n",
    "            \n",
    "    def faire_le_plein(self):\n",
    "        self.essence = 100\n",
    "        print(\"Vous pouvez repartir !\")\n",
    "    "
   ]
  },
  {
   "cell_type": "code",
   "execution_count": 13,
   "id": "d40b4313",
   "metadata": {},
   "outputs": [
    {
     "name": "stdout",
     "output_type": "stream",
     "text": [
      "La voiture contient 100L d'essence.\n"
     ]
    }
   ],
   "source": [
    "voiture_01 = Voiture()\n",
    "voiture_01.afficher_reservoir()"
   ]
  },
  {
   "cell_type": "code",
   "execution_count": 14,
   "id": "c115fe53",
   "metadata": {},
   "outputs": [
    {
     "name": "stdout",
     "output_type": "stream",
     "text": [
      "La voiture contient 97.5L d'essence.\n"
     ]
    }
   ],
   "source": [
    "voiture_01.roule(50)"
   ]
  },
  {
   "cell_type": "code",
   "execution_count": 15,
   "id": "16113313",
   "metadata": {},
   "outputs": [
    {
     "name": "stdout",
     "output_type": "stream",
     "text": [
      "La voiture contient 57.5L d'essence.\n"
     ]
    }
   ],
   "source": [
    "voiture_01.roule(800)"
   ]
  },
  {
   "cell_type": "code",
   "execution_count": 16,
   "id": "e7da9e7b",
   "metadata": {},
   "outputs": [
    {
     "name": "stdout",
     "output_type": "stream",
     "text": [
      "Vous n'avez plus d'essence, faites le plein !\n",
      "Vous n'avez bientôt plus d'essence !\n"
     ]
    }
   ],
   "source": [
    "voiture_01.roule(1800)"
   ]
  },
  {
   "cell_type": "code",
   "execution_count": 17,
   "id": "7171aa6b",
   "metadata": {},
   "outputs": [
    {
     "name": "stdout",
     "output_type": "stream",
     "text": [
      "Vous pouvez repartir !\n"
     ]
    }
   ],
   "source": [
    "voiture_01.faire_le_plein()"
   ]
  },
  {
   "cell_type": "code",
   "execution_count": null,
   "id": "50ef26af",
   "metadata": {},
   "outputs": [],
   "source": []
  }
 ],
 "metadata": {
  "kernelspec": {
   "display_name": "Python 3 (ipykernel)",
   "language": "python",
   "name": "python3"
  },
  "language_info": {
   "codemirror_mode": {
    "name": "ipython",
    "version": 3
   },
   "file_extension": ".py",
   "mimetype": "text/x-python",
   "name": "python",
   "nbconvert_exporter": "python",
   "pygments_lexer": "ipython3",
   "version": "3.9.13"
  }
 },
 "nbformat": 4,
 "nbformat_minor": 5
}
